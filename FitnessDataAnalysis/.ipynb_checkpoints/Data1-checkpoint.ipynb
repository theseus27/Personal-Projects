{
 "cells": [
  {
   "cell_type": "code",
   "execution_count": 24,
   "id": "5a764332",
   "metadata": {},
   "outputs": [],
   "source": [
    "import matplotlib.pyplot as plt\n",
    "import numpy as np\n",
    "import datetime as dt\n",
    "import csv"
   ]
  },
  {
   "cell_type": "code",
   "execution_count": 26,
   "id": "e5ba2e7a",
   "metadata": {},
   "outputs": [
    {
     "ename": "IndexError",
     "evalue": "list index out of range",
     "output_type": "error",
     "traceback": [
      "\u001b[1;31m---------------------------------------------------------------------------\u001b[0m",
      "\u001b[1;31mIndexError\u001b[0m                                Traceback (most recent call last)",
      "Cell \u001b[1;32mIn [26], line 17\u001b[0m\n\u001b[0;32m     15\u001b[0m spl \u001b[38;5;241m=\u001b[39m i\u001b[38;5;241m.\u001b[39msplit(\u001b[38;5;124m\"\u001b[39m\u001b[38;5;124m,\u001b[39m\u001b[38;5;124m\"\u001b[39m)\n\u001b[0;32m     16\u001b[0m date \u001b[38;5;241m=\u001b[39m spl[\u001b[38;5;241m0\u001b[39m]\n\u001b[1;32m---> 17\u001b[0m time \u001b[38;5;241m=\u001b[39m \u001b[43mspl\u001b[49m\u001b[43m[\u001b[49m\u001b[38;5;241;43m1\u001b[39;49m\u001b[43m]\u001b[49m\n\u001b[0;32m     18\u001b[0m spl \u001b[38;5;241m=\u001b[39m date\u001b[38;5;241m.\u001b[39msplit(\u001b[38;5;124m'\u001b[39m\u001b[38;5;124m/\u001b[39m\u001b[38;5;124m'\u001b[39m)\n\u001b[0;32m     19\u001b[0m curr \u001b[38;5;241m=\u001b[39m dt\u001b[38;5;241m.\u001b[39mdatetime(spl[\u001b[38;5;241m2\u001b[39m], spl[\u001b[38;5;241m0\u001b[39m], spl[\u001b[38;5;241m1\u001b[39m])\n",
      "\u001b[1;31mIndexError\u001b[0m: list index out of range"
     ]
    }
   ],
   "source": [
    "full_dates = []\n",
    "weights = []\n",
    "days = []\n",
    "\n",
    "#Read in data\n",
    "with open('data.csv', 'r') as file:\n",
    "    entries = csv.reader(file, delimiter=',')\n",
    "    for entry in entries:\n",
    "        full_dates.append(entry[0])\n",
    "        weights.append(entry[1])\n",
    "\n",
    "#Convert dates\n",
    "start = dt.datetime(2021, 1, 15)\n",
    "for i in full_dates:\n",
    "    spl = i.split(\",\")\n",
    "    date = spl[0]\n",
    "    time = spl[1]\n",
    "    spl = date.split('/')\n",
    "    print(spl)\n",
    "    curr = dt.datetime(spl[2], spl[0], spl[1])\n",
    "    days.append((curr-start).days)\n",
    "\n",
    "plt.plot(x, y)\n",
    "plt.xticks(np.arange(min(x),max(x)))\n",
    "plt.yticks(np.arange(120.0, 135.0, 1.0))\n",
    "#plt.ylim(120,130)\n",
    "#plt.gca().xaxis.set_major_locator(plt.MultipleLocator(1))\n",
    "plt.xticks(rotation = 25)\n",
    "plt.yticks(rotation = .4)\n",
    "plt.show()"
   ]
  }
 ],
 "metadata": {
  "kernelspec": {
   "display_name": "Python 3 (ipykernel)",
   "language": "python",
   "name": "python3"
  },
  "language_info": {
   "codemirror_mode": {
    "name": "ipython",
    "version": 3
   },
   "file_extension": ".py",
   "mimetype": "text/x-python",
   "name": "python",
   "nbconvert_exporter": "python",
   "pygments_lexer": "ipython3",
   "version": "3.10.6"
  }
 },
 "nbformat": 4,
 "nbformat_minor": 5
}
